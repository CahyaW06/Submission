{
  "cells": [
    {
      "cell_type": "markdown",
      "metadata": {
        "id": "H9wADwK78DCz"
      },
      "source": [
        "# Proyek Analisis Data: [Input Nama Dataset]\n",
        "- **Nama:** Yudha Cahya Wijaya\n",
        "- **Email:** m312b4ky4556@bangkit.academy\n",
        "- **ID Dicoding:** m312b4ky4556"
      ]
    },
    {
      "cell_type": "markdown",
      "metadata": {
        "id": "eE0raob58DC0"
      },
      "source": [
        "## Menentukan Pertanyaan Bisnis"
      ]
    },
    {
      "cell_type": "markdown",
      "metadata": {
        "id": "GmQeQ5YF8DC0"
      },
      "source": [
        "- When are the busy times of people rode bicycle on workingday in a year?\n",
        "- Does temperature affect the amount of user that used bicycle?\n",
        "- How is the growth rate of registered user in a year?"
      ]
    },
    {
      "cell_type": "markdown",
      "metadata": {
        "id": "H-z4QGlO8DC1"
      },
      "source": [
        "## Import Semua Packages/Library yang Digunakan"
      ]
    },
    {
      "cell_type": "code",
      "execution_count": 9,
      "metadata": {
        "id": "FVYwaObI8DC1"
      },
      "outputs": [],
      "source": [
        "import numpy as np\n",
        "import pandas as pd\n",
        "import matplotlib.pyplot as plt\n",
        "import seaborn as sns"
      ]
    },
    {
      "cell_type": "markdown",
      "metadata": {
        "id": "h_Sh51Xy8DC1"
      },
      "source": [
        "## Data Wrangling"
      ]
    },
    {
      "cell_type": "markdown",
      "metadata": {
        "id": "sXU2GBYu8DC1"
      },
      "source": [
        "### Gathering Data"
      ]
    },
    {
      "cell_type": "code",
      "execution_count": 10,
      "metadata": {
        "colab": {
          "base_uri": "https://localhost:8080/"
        },
        "id": "zjCBk1BI8DC1",
        "outputId": "aa7e0ab7-983b-4e38-a3d4-809d9e2527aa"
      },
      "outputs": [
        {
          "name": "stdout",
          "output_type": "stream",
          "text": [
            "   instant      dteday  season  yr  mnth  holiday  weekday  workingday  \\\n",
            "0        1  2011-01-01       1   0     1        0        6           0   \n",
            "1        2  2011-01-02       1   0     1        0        0           0   \n",
            "2        3  2011-01-03       1   0     1        0        1           1   \n",
            "3        4  2011-01-04       1   0     1        0        2           1   \n",
            "4        5  2011-01-05       1   0     1        0        3           1   \n",
            "\n",
            "   weathersit      temp     atemp       hum  windspeed  casual  registered  \\\n",
            "0           2  0.344167  0.363625  0.805833   0.160446     331         654   \n",
            "1           2  0.363478  0.353739  0.696087   0.248539     131         670   \n",
            "2           1  0.196364  0.189405  0.437273   0.248309     120        1229   \n",
            "3           1  0.200000  0.212122  0.590435   0.160296     108        1454   \n",
            "4           1  0.226957  0.229270  0.436957   0.186900      82        1518   \n",
            "\n",
            "    cnt  \n",
            "0   985  \n",
            "1   801  \n",
            "2  1349  \n",
            "3  1562  \n",
            "4  1600  \n",
            "   instant      dteday  season  yr  mnth  hr  holiday  weekday  workingday  \\\n",
            "0        1  2011-01-01       1   0     1   0        0        6           0   \n",
            "1        2  2011-01-01       1   0     1   1        0        6           0   \n",
            "2        3  2011-01-01       1   0     1   2        0        6           0   \n",
            "3        4  2011-01-01       1   0     1   3        0        6           0   \n",
            "4        5  2011-01-01       1   0     1   4        0        6           0   \n",
            "\n",
            "   weathersit  temp   atemp   hum  windspeed  casual  registered  cnt  \n",
            "0           1  0.24  0.2879  0.81        0.0       3          13   16  \n",
            "1           1  0.22  0.2727  0.80        0.0       8          32   40  \n",
            "2           1  0.22  0.2727  0.80        0.0       5          27   32  \n",
            "3           1  0.24  0.2879  0.75        0.0       3          10   13  \n",
            "4           1  0.24  0.2879  0.75        0.0       0           1    1  \n"
          ]
        }
      ],
      "source": [
        "day_df = pd.read_csv(\"data/day.csv\")\n",
        "hour_df = pd.read_csv(\"data/hour.csv\")\n",
        "\n",
        "print(day_df.head())\n",
        "print(hour_df.head())"
      ]
    },
    {
      "cell_type": "markdown",
      "metadata": {
        "id": "MMi6xGaDkbCi"
      },
      "source": [
        "**Insight:**\n",
        "- The difference between day_df and hour_df is hour_df has hr column which is day_df does not have it."
      ]
    },
    {
      "cell_type": "markdown",
      "metadata": {
        "id": "FHSiqaZp8DC1"
      },
      "source": [
        "### Assessing Data"
      ]
    },
    {
      "cell_type": "code",
      "execution_count": 11,
      "metadata": {
        "colab": {
          "base_uri": "https://localhost:8080/"
        },
        "id": "ax-3tEjc9Cj1",
        "outputId": "60de2bd1-7c51-4bfa-d0e0-2669f9ef8d68"
      },
      "outputs": [
        {
          "name": "stdout",
          "output_type": "stream",
          "text": [
            "<class 'pandas.core.frame.DataFrame'>\n",
            "RangeIndex: 731 entries, 0 to 730\n",
            "Data columns (total 16 columns):\n",
            " #   Column      Non-Null Count  Dtype  \n",
            "---  ------      --------------  -----  \n",
            " 0   instant     731 non-null    int64  \n",
            " 1   dteday      731 non-null    object \n",
            " 2   season      731 non-null    int64  \n",
            " 3   yr          731 non-null    int64  \n",
            " 4   mnth        731 non-null    int64  \n",
            " 5   holiday     731 non-null    int64  \n",
            " 6   weekday     731 non-null    int64  \n",
            " 7   workingday  731 non-null    int64  \n",
            " 8   weathersit  731 non-null    int64  \n",
            " 9   temp        731 non-null    float64\n",
            " 10  atemp       731 non-null    float64\n",
            " 11  hum         731 non-null    float64\n",
            " 12  windspeed   731 non-null    float64\n",
            " 13  casual      731 non-null    int64  \n",
            " 14  registered  731 non-null    int64  \n",
            " 15  cnt         731 non-null    int64  \n",
            "dtypes: float64(4), int64(11), object(1)\n",
            "memory usage: 91.5+ KB\n",
            "None\n",
            "duplicate:  0\n",
            "          instant      season          yr        mnth     holiday     weekday  \\\n",
            "count  731.000000  731.000000  731.000000  731.000000  731.000000  731.000000   \n",
            "mean   366.000000    2.496580    0.500684    6.519836    0.028728    2.997264   \n",
            "std    211.165812    1.110807    0.500342    3.451913    0.167155    2.004787   \n",
            "min      1.000000    1.000000    0.000000    1.000000    0.000000    0.000000   \n",
            "25%    183.500000    2.000000    0.000000    4.000000    0.000000    1.000000   \n",
            "50%    366.000000    3.000000    1.000000    7.000000    0.000000    3.000000   \n",
            "75%    548.500000    3.000000    1.000000   10.000000    0.000000    5.000000   \n",
            "max    731.000000    4.000000    1.000000   12.000000    1.000000    6.000000   \n",
            "\n",
            "       workingday  weathersit        temp       atemp         hum   windspeed  \\\n",
            "count  731.000000  731.000000  731.000000  731.000000  731.000000  731.000000   \n",
            "mean     0.683995    1.395349    0.495385    0.474354    0.627894    0.190486   \n",
            "std      0.465233    0.544894    0.183051    0.162961    0.142429    0.077498   \n",
            "min      0.000000    1.000000    0.059130    0.079070    0.000000    0.022392   \n",
            "25%      0.000000    1.000000    0.337083    0.337842    0.520000    0.134950   \n",
            "50%      1.000000    1.000000    0.498333    0.486733    0.626667    0.180975   \n",
            "75%      1.000000    2.000000    0.655417    0.608602    0.730209    0.233214   \n",
            "max      1.000000    3.000000    0.861667    0.840896    0.972500    0.507463   \n",
            "\n",
            "            casual   registered          cnt  \n",
            "count   731.000000   731.000000   731.000000  \n",
            "mean    848.176471  3656.172367  4504.348837  \n",
            "std     686.622488  1560.256377  1937.211452  \n",
            "min       2.000000    20.000000    22.000000  \n",
            "25%     315.500000  2497.000000  3152.000000  \n",
            "50%     713.000000  3662.000000  4548.000000  \n",
            "75%    1096.000000  4776.500000  5956.000000  \n",
            "max    3410.000000  6946.000000  8714.000000  \n",
            "<class 'pandas.core.frame.DataFrame'>\n",
            "RangeIndex: 17379 entries, 0 to 17378\n",
            "Data columns (total 17 columns):\n",
            " #   Column      Non-Null Count  Dtype  \n",
            "---  ------      --------------  -----  \n",
            " 0   instant     17379 non-null  int64  \n",
            " 1   dteday      17379 non-null  object \n",
            " 2   season      17379 non-null  int64  \n",
            " 3   yr          17379 non-null  int64  \n",
            " 4   mnth        17379 non-null  int64  \n",
            " 5   hr          17379 non-null  int64  \n",
            " 6   holiday     17379 non-null  int64  \n",
            " 7   weekday     17379 non-null  int64  \n",
            " 8   workingday  17379 non-null  int64  \n",
            " 9   weathersit  17379 non-null  int64  \n",
            " 10  temp        17379 non-null  float64\n",
            " 11  atemp       17379 non-null  float64\n",
            " 12  hum         17379 non-null  float64\n",
            " 13  windspeed   17379 non-null  float64\n",
            " 14  casual      17379 non-null  int64  \n",
            " 15  registered  17379 non-null  int64  \n",
            " 16  cnt         17379 non-null  int64  \n",
            "dtypes: float64(4), int64(12), object(1)\n",
            "memory usage: 2.3+ MB\n",
            "None\n",
            "duplicate:  0\n",
            "          instant        season            yr          mnth            hr  \\\n",
            "count  17379.0000  17379.000000  17379.000000  17379.000000  17379.000000   \n",
            "mean    8690.0000      2.501640      0.502561      6.537775     11.546752   \n",
            "std     5017.0295      1.106918      0.500008      3.438776      6.914405   \n",
            "min        1.0000      1.000000      0.000000      1.000000      0.000000   \n",
            "25%     4345.5000      2.000000      0.000000      4.000000      6.000000   \n",
            "50%     8690.0000      3.000000      1.000000      7.000000     12.000000   \n",
            "75%    13034.5000      3.000000      1.000000     10.000000     18.000000   \n",
            "max    17379.0000      4.000000      1.000000     12.000000     23.000000   \n",
            "\n",
            "            holiday       weekday    workingday    weathersit          temp  \\\n",
            "count  17379.000000  17379.000000  17379.000000  17379.000000  17379.000000   \n",
            "mean       0.028770      3.003683      0.682721      1.425283      0.496987   \n",
            "std        0.167165      2.005771      0.465431      0.639357      0.192556   \n",
            "min        0.000000      0.000000      0.000000      1.000000      0.020000   \n",
            "25%        0.000000      1.000000      0.000000      1.000000      0.340000   \n",
            "50%        0.000000      3.000000      1.000000      1.000000      0.500000   \n",
            "75%        0.000000      5.000000      1.000000      2.000000      0.660000   \n",
            "max        1.000000      6.000000      1.000000      4.000000      1.000000   \n",
            "\n",
            "              atemp           hum     windspeed        casual    registered  \\\n",
            "count  17379.000000  17379.000000  17379.000000  17379.000000  17379.000000   \n",
            "mean       0.475775      0.627229      0.190098     35.676218    153.786869   \n",
            "std        0.171850      0.192930      0.122340     49.305030    151.357286   \n",
            "min        0.000000      0.000000      0.000000      0.000000      0.000000   \n",
            "25%        0.333300      0.480000      0.104500      4.000000     34.000000   \n",
            "50%        0.484800      0.630000      0.194000     17.000000    115.000000   \n",
            "75%        0.621200      0.780000      0.253700     48.000000    220.000000   \n",
            "max        1.000000      1.000000      0.850700    367.000000    886.000000   \n",
            "\n",
            "                cnt  \n",
            "count  17379.000000  \n",
            "mean     189.463088  \n",
            "std      181.387599  \n",
            "min        1.000000  \n",
            "25%       40.000000  \n",
            "50%      142.000000  \n",
            "75%      281.000000  \n",
            "max      977.000000  \n"
          ]
        }
      ],
      "source": [
        "print(day_df.info())\n",
        "print(\"duplicate: \", day_df.duplicated().sum())\n",
        "print(day_df.describe())\n",
        "\n",
        "print(hour_df.info())\n",
        "print(\"duplicate: \", hour_df.duplicated().sum())\n",
        "print(hour_df.describe())"
      ]
    },
    {
      "cell_type": "markdown",
      "metadata": {
        "id": "7dtxhAPrkhPL"
      },
      "source": [
        "**Insight:**\n",
        "- All of the datas already have a good quality\n",
        "- I just need to change the type of dteday column from each table into datatime"
      ]
    },
    {
      "cell_type": "markdown",
      "metadata": {
        "id": "EhN5R4hr8DC1"
      },
      "source": [
        "### Cleaning Data"
      ]
    },
    {
      "cell_type": "code",
      "execution_count": 12,
      "metadata": {
        "id": "jVnYpprE9Evz"
      },
      "outputs": [],
      "source": [
        "datetime_columns = ['dteday']\n",
        "\n",
        "for column in datetime_columns:\n",
        "  day_df[column] = pd.to_datetime(day_df[column])\n",
        "  hour_df[column] = pd.to_datetime(hour_df[column])"
      ]
    },
    {
      "cell_type": "markdown",
      "metadata": {
        "id": "Q_5ejIqckiSP"
      },
      "source": [
        "**Insight:**\n",
        "- I can convert all of the values from dteday column into datetime"
      ]
    },
    {
      "cell_type": "markdown",
      "metadata": {
        "id": "gp-Y6wU38DC1"
      },
      "source": [
        "## Exploratory Data Analysis (EDA)"
      ]
    },
    {
      "cell_type": "markdown",
      "metadata": {
        "id": "MW7WF2kr8DC1"
      },
      "source": [
        "### Explore ..."
      ]
    },
    {
      "cell_type": "code",
      "execution_count": 20,
      "metadata": {
        "colab": {
          "base_uri": "https://localhost:8080/"
        },
        "id": "e9CQCZjk8DC2",
        "outputId": "501ccefe-2598-42fe-9b20-8058ed619eef"
      },
      "outputs": [
        {
          "name": "stdout",
          "output_type": "stream",
          "text": [
            "           cnt\n",
            "hr            \n",
            "0    36.786290\n",
            "1    16.552632\n",
            "2     8.683778\n",
            "3     4.942553\n",
            "4     5.429787\n",
            "5    24.913131\n",
            "6   102.500000\n",
            "7   290.612903\n",
            "8   477.006048\n",
            "9   241.518145\n",
            "10  135.366935\n",
            "11  158.229839\n",
            "12  200.820926\n",
            "13  198.429719\n",
            "14  183.572289\n",
            "15  201.331325\n",
            "16  293.122244\n",
            "17  525.290581\n",
            "18  492.226908\n",
            "19  348.401606\n",
            "20  249.718876\n",
            "21  186.287149\n",
            "22  138.389558\n",
            "23   88.708835\n"
          ]
        }
      ],
      "source": [
        "# Question 1\n",
        "\n",
        "workingday_df = hour_df.loc[hour_df['workingday'] == 1]\n",
        "busy_hour_df = workingday_df.groupby(by=\"hr\").agg({\n",
        "    \"cnt\": 'mean'\n",
        "})\n",
        "\n",
        "print(busy_hour_df)\n",
        "busy_hour_df.to_csv('dashboard/busy_hour.csv')"
      ]
    },
    {
      "cell_type": "markdown",
      "metadata": {
        "id": "th_Lzl2Fkj9O"
      },
      "source": [
        "**Insight:**\n",
        "- In a year, the time of the highest bicycle use is at 5 PM\n",
        "- In a year, the time of the lowest bicycle use is at 3 AM"
      ]
    },
    {
      "cell_type": "code",
      "execution_count": 14,
      "metadata": {
        "id": "Uow5uVG77kUo"
      },
      "outputs": [],
      "source": [
        "def to_farenheit(temp):\n",
        "  return (9*temp/5) + 32"
      ]
    },
    {
      "cell_type": "code",
      "execution_count": 21,
      "metadata": {
        "colab": {
          "base_uri": "https://localhost:8080/"
        },
        "id": "8o5lFuqrh6Bh",
        "outputId": "734a7c72-845e-46ca-87ea-029778eb26d3"
      },
      "outputs": [
        {
          "name": "stdout",
          "output_type": "stream",
          "text": [
            "          Category    Count\n",
            "0             Safe  2226234\n",
            "1          Caution   966002\n",
            "2  Extreme Caution   100443\n",
            "3           Danger        0\n",
            "4   Extreme Danger        0\n"
          ]
        }
      ],
      "source": [
        "# Question 2\n",
        "\n",
        "cnt_bytemp = {}\n",
        "cnt_bytemp['Category'] = ['Safe', 'Caution', 'Extreme Caution', 'Danger', 'Extreme Danger']\n",
        "cnt_bytemp['Count'] = [\n",
        "  day_df.loc[to_farenheit(day_df['temp']*41) < 80, 'cnt'].sum(),\n",
        "  day_df.loc[(to_farenheit(day_df['temp']*41) >= 80) & (to_farenheit(day_df['temp']*41) < 90), 'cnt'].sum(),\n",
        "  day_df.loc[(to_farenheit(day_df['temp']*41) >= 90) & (to_farenheit(day_df['temp']*41) < 103), 'cnt'].sum(),\n",
        "  day_df.loc[(to_farenheit(day_df['temp']*41) >= 103) & (to_farenheit(day_df['temp']*41) < 124), 'cnt'].sum(),\n",
        "  day_df.loc[to_farenheit(day_df['temp']*41) >= 125, 'cnt'].sum()\n",
        "]\n",
        "\n",
        "cnt_bytemp_df = pd.DataFrame(cnt_bytemp)\n",
        "print(cnt_bytemp_df)\n",
        "cnt_bytemp_df.to_csv('dashboard/cnt_bytemp.csv')"
      ]
    },
    {
      "cell_type": "markdown",
      "metadata": {
        "id": "YenPTITFjA6B"
      },
      "source": [
        "**Insight:**\n",
        "\n",
        "![Screenshot 2024-10-02 131857.png](data:image/png;base64,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)\n",
        "\n",
        "from: https://www.weather.gov/ama/heatindex\n",
        "\n",
        "- there is a significant change of use rate based on the temperature"
      ]
    },
    {
      "cell_type": "code",
      "execution_count": 27,
      "metadata": {
        "colab": {
          "base_uri": "https://localhost:8080/"
        },
        "id": "WDJGZGwBjH7W",
        "outputId": "bf226c54-39e3-4615-8bee-2e4acd050363"
      },
      "outputs": [
        {
          "name": "stdout",
          "output_type": "stream",
          "text": [
            "      casual  registered month  growth casual(%)  growth registered(%)\n",
            "mnth                                                                  \n",
            "1      12042      122891   Jan          0.000000              0.000000\n",
            "2      14963      136389   Feb         24.256768             10.983717\n",
            "3      44444      184476   Mar        197.025997             35.257242\n",
            "4      60802      208292   Apr         36.805868             12.910080\n",
            "5      75285      256401   May         23.819940             23.096902\n"
          ]
        }
      ],
      "source": [
        "# Question 3\n",
        "\n",
        "user_monthly_df = day_df.groupby(by=\"mnth\").agg({\n",
        "    'casual' : 'sum',\n",
        "    'registered' : 'sum'\n",
        "})\n",
        "\n",
        "user_monthly_df['month'] = ['Jan', 'Feb', 'Mar', 'Apr', 'May', 'Jun', 'Jul', 'Aug', 'Sep', 'Oct', 'Nov', 'Des']\n",
        "user_monthly_df['growth casual(%)'] = user_monthly_df['casual'].pct_change() * 100\n",
        "user_monthly_df['growth registered(%)'] = user_monthly_df['registered'].pct_change() * 100\n",
        "user_monthly_df['growth casual(%)'] = user_monthly_df['growth casual(%)'].fillna(0)\n",
        "user_monthly_df['growth registered(%)'] = user_monthly_df['growth registered(%)'].fillna(0)\n",
        "\n",
        "\n",
        "\n",
        "print(user_monthly_df.head())\n",
        "user_monthly_df.to_csv('dashboard/user_monthly.csv')"
      ]
    },
    {
      "cell_type": "markdown",
      "metadata": {
        "id": "Zj9mewUJjGzx"
      },
      "source": [
        "**Insight:**\n",
        "- The highest increase rate of registered users occured in the March\n",
        "- In an early half year (January - May), the number of registered user is increased in used bicycle, but from June until December the number of registered user went down"
      ]
    },
    {
      "cell_type": "markdown",
      "metadata": {
        "id": "zsyZjqak8DC2"
      },
      "source": [
        "## Visualization & Explanatory Analysis"
      ]
    },
    {
      "cell_type": "markdown",
      "metadata": {
        "id": "HZxOiQ6n8DC2"
      },
      "source": [
        "### Pertanyaan 1:"
      ]
    },
    {
      "cell_type": "code",
      "execution_count": 31,
      "metadata": {
        "colab": {
          "base_uri": "https://localhost:8080/",
          "height": 468
        },
        "id": "1swJUdAD8DC2",
        "outputId": "2834931a-226d-4987-94b7-5bb6fcf420d1"
      },
      "outputs": [
        {
          "data": {
            "image/png": "[encoded data removed]",
            "text/plain": [
              "<Figure size 1000x500 with 1 Axes>"
            ]
          },
          "metadata": {},
          "output_type": "display_data"
        }
      ],
      "source": [
        "plt.figure(figsize=(10, 5))\n",
        "sns.barplot(\n",
        "    y = \"cnt\",\n",
        "    x = \"hr\",\n",
        "    data=busy_hour_df\n",
        ")\n",
        "\n",
        "plt.title(\"Average Usage of the Bicycle by Hour\", loc='center')\n",
        "plt.ylabel(\"Count\")\n",
        "plt.xlabel(\"Hour of the Day\")\n",
        "plt.tick_params(axis='x')\n",
        "plt.show()"
      ]
    },
    {
      "cell_type": "markdown",
      "metadata": {
        "id": "DgHI7CiU8DC2"
      },
      "source": [
        "### Pertanyaan 2:"
      ]
    },
    {
      "cell_type": "code",
      "execution_count": 30,
      "metadata": {
        "colab": {
          "base_uri": "https://localhost:8080/",
          "height": 468
        },
        "id": "Go0lCsvO8DC2",
        "outputId": "51fcb89a-6818-4852-9334-a182190fbefb"
      },
      "outputs": [
        {
          "data": {
            "image/png": "[encoded data removed]",
            "text/plain": [
              "<Figure size 1000x500 with 1 Axes>"
            ]
          },
          "metadata": {},
          "output_type": "display_data"
        }
      ],
      "source": [
        "plt.figure(figsize=(10, 5))\n",
        "sns.barplot(\n",
        "    data=cnt_bytemp_df,\n",
        "    y = 'Count',\n",
        "    x = 'Category',\n",
        ")\n",
        "\n",
        "plt.title(\"Total Bicycle Usage Based on Heat Index\", loc='center')\n",
        "plt.tick_params(axis='x')\n",
        "plt.show()"
      ]
    },
    {
      "cell_type": "markdown",
      "metadata": {
        "id": "wi1V8zN7-BGK"
      },
      "source": [
        "### Pertanyaan 3:"
      ]
    },
    {
      "cell_type": "code",
      "execution_count": 19,
      "metadata": {
        "colab": {
          "base_uri": "https://localhost:8080/",
          "height": 468
        },
        "id": "7eyL1rGB-DB_",
        "outputId": "1830b9d2-c522-40d3-ccff-1083b24b7711"
      },
      "outputs": [
        {
          "data": {
            "image/png": "[encoded data removed]",
            "text/plain": [
              "<Figure size 1000x500 with 1 Axes>"
            ]
          },
          "metadata": {},
          "output_type": "display_data"
        }
      ],
      "source": [
        "plt.figure(figsize=(10, 5))\n",
        "plt.plot(\n",
        "    user_monthly_df['mnth'],\n",
        "    user_monthly_df['casual'],\n",
        "    marker='o',\n",
        "    linewidth=2,\n",
        ")\n",
        "\n",
        "plt.plot(\n",
        "    user_monthly_df['mnth'],\n",
        "    user_monthly_df['registered'],\n",
        "    marker='o',\n",
        "    linewidth=2,\n",
        ")\n",
        "\n",
        "plt.title(\"Growth Rate of User\", loc='center')\n",
        "plt.show()"
      ]
    },
    {
      "cell_type": "markdown",
      "metadata": {
        "id": "2m5QgYi0HFSI"
      },
      "source": [
        "Insight:\n",
        "\n",
        "- For the question 1 and 2, I use histogram to visualize the data because the data was discrete.\n",
        "- For the other question, I use line graph because I want to see the difference/growth of the data"
      ]
    },
    {
      "cell_type": "markdown",
      "metadata": {
        "id": "9y4VUsmcYNZ5"
      },
      "source": [
        "## Analisis Lanjutan (Opsional)"
      ]
    },
    {
      "cell_type": "markdown",
      "metadata": {
        "id": "KIhUhgbnIN_b"
      },
      "source": [
        "For the question number two, I implement an advanced analysis using clustering, especially manual grouping. From weather.gov, I got an information about heat index. Then, I make a group based on that heat index (safe, caution, extreme caution, etc.) and sort the data by that group."
      ]
    },
    {
      "cell_type": "markdown",
      "metadata": {
        "id": "_WeHlCeX8DC2"
      },
      "source": [
        "## Conclusion"
      ]
    },
    {
      "cell_type": "markdown",
      "metadata": {
        "id": "ZTcyR48Y8DC2"
      },
      "source": [
        "- Conclution question 1:\n",
        "  From the graph, we can see that, most of people rode bicycle on workingday at 5 PM.\n",
        "- Conclution question 2:\n",
        "  From the graph, we can see that the number of people who rode bicycles decreased as the temperature increased. Therefore, we can conclude that the heat index affects the usage rate of bicycles.\n",
        "- Conclusion question 3:\n",
        "  From the graph, we can see that bicycle usage, both by casual and registered users, increased from January to June. For the next two months, the usage remained relatively stable. However, starting in September, there was a decline until December. The growth between registered and casual user was growing linear, so both of them was not affect each other.  "
      ]
    }
  ],
  "metadata": {
    "colab": {
      "provenance": []
    },
    "kernelspec": {
      "display_name": "Python 3",
      "language": "python",
      "name": "python3"
    },
    "language_info": {
      "codemirror_mode": {
        "name": "ipython",
        "version": 3
      },
      "file_extension": ".py",
      "mimetype": "text/x-python",
      "name": "python",
      "nbconvert_exporter": "python",
      "pygments_lexer": "ipython3",
      "version": "3.12.6"
    },
    "orig_nbformat": 4,
    "vscode": {
      "interpreter": {
        "hash": "972b3bf27e332e87b5379f2791f6ef9dfc79c71018c370b0d7423235e20fe4d7"
      }
    }
  },
  "nbformat": 4,
  "nbformat_minor": 0
}
